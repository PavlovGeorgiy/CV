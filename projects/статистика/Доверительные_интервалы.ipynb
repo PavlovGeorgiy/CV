{
  "cells": [
    {
      "cell_type": "markdown",
      "metadata": {
        "id": "view-in-github",
        "colab_type": "text"
      },
      "source": [
        "<a href=\"https://colab.research.google.com/github/PavlovGeorgiy/portfolio/blob/main/%D0%94%D0%BE%D0%B2%D0%B5%D1%80%D0%B8%D1%82%D0%B5%D0%BB%D1%8C%D0%BD%D1%8B%D0%B5_%D0%B8%D0%BD%D1%82%D0%B5%D1%80%D0%B2%D0%B0%D0%BB%D1%8B.ipynb\" target=\"_parent\"><img src=\"https://colab.research.google.com/assets/colab-badge.svg\" alt=\"Open In Colab\"/></a>"
      ]
    },
    {
      "cell_type": "code",
      "execution_count": null,
      "metadata": {
        "id": "y-JQJAXujWHb"
      },
      "outputs": [],
      "source": [
        "# !pip install scipy"
      ]
    },
    {
      "cell_type": "code",
      "execution_count": null,
      "metadata": {
        "scrolled": true,
        "id": "FG2XRcr8jWHe"
      },
      "outputs": [],
      "source": [
        "import numpy as np\n",
        "import scipy.stats as st\n",
        "import pandas as pd\n",
        "import math\n",
        "import matplotlib.pyplot as plt\n",
        "import matplotlib\n",
        "from scipy import stats\n",
        "%matplotlib inline\n",
        "import seaborn as sns"
      ]
    },
    {
      "cell_type": "markdown",
      "metadata": {
        "id": "7cSwqkapjWH3"
      },
      "source": [
        "# Задания для самостоятельного решения\n"
      ]
    },
    {
      "cell_type": "markdown",
      "metadata": {
        "id": "YMmWjFsIjWH3"
      },
      "source": [
        "<div class=\"alert alert-info\">\n",
        "<b>Задание № 0</b>\n",
        "\n",
        "Найдите минимально необходимый объем выборки для построения интервальной оценки среднего.\n",
        "\n",
        "- желаемая точность $\\Delta$ = 3;\n",
        "- дисперсия $\\sigma^2$  = 225;\n",
        "- уровень доверия $\\beta$ = 0.95.\n",
        "    \n",
        "Ответ округлите до целого\n",
        "</div>"
      ]
    },
    {
      "cell_type": "code",
      "execution_count": null,
      "metadata": {
        "id": "s3Ls4J-NjWH3",
        "outputId": "9a797858-a15a-41e9-cc80-ea2e3cb80383",
        "colab": {
          "base_uri": "https://localhost:8080/"
        }
      },
      "outputs": [
        {
          "output_type": "stream",
          "name": "stdout",
          "text": [
            "минимально необходимый объем выборки для построения интервальной оценки среднего 96\n"
          ]
        }
      ],
      "source": [
        "sigma = 15  # Стандартное отклонение\n",
        "Z = 1.96  # Квантиль нормального распределения.\n",
        "Delta = 3 # Погрешность\n",
        "\n",
        "n = round(int(((sigma*Z)/Delta)**2), 0)\n",
        "print('минимально необходимый объем выборки для построения интервальной оценки среднего', n)"
      ]
    },
    {
      "cell_type": "markdown",
      "metadata": {
        "id": "g7AyFBTbjWH3"
      },
      "source": [
        "<div class=\"alert alert-info\">\n",
        "<b>Задание № 1</b>\n",
        "\n",
        "Постройте `98% доверительный интервал` для среднего значения, если известно, что\n",
        "\n",
        "- объем выборки n = 25;\n",
        "- среднее значение по выборке $\\overline x$ = 130;\n",
        "- Из достоверных источников известно стандартное отклонение $\\sigma = 15$.\n",
        "    \n",
        "В ответ укажите длину полученного доверительного интервала (разницу между правым и левым концом), окруленную до целого\n",
        "</div>"
      ]
    },
    {
      "cell_type": "code",
      "execution_count": null,
      "metadata": {
        "id": "sHVDNt9GjWH3",
        "colab": {
          "base_uri": "https://localhost:8080/"
        },
        "outputId": "a802242a-9ad8-4b40-b207-a943c78b0439"
      },
      "outputs": [
        {
          "output_type": "execute_result",
          "data": {
            "text/plain": [
              "array([137.4507123 , 127.92603548, 139.71532807, 152.84544785,\n",
              "       126.48769938, 126.48794565, 153.68819223, 141.51152094,\n",
              "       122.95788421, 138.13840065, 123.04873461, 123.0140537 ,\n",
              "       133.62943407, 101.30079633, 104.12623251, 121.56568706,\n",
              "       114.80753319, 134.71370999, 116.37963887, 108.81544448,\n",
              "       151.98473153, 126.61335549, 131.01292307, 108.62877721,\n",
              "       121.83425913])"
            ]
          },
          "metadata": {},
          "execution_count": 9
        }
      ],
      "source": [
        "### Ваши код/вычесления...\n",
        "np.random.seed(42)  # Закрепим seed для воспроизводимости результата.\n",
        "\n",
        "# Генерируем случайное множество с нормальным распределением, где среднее = loc, а стандартное отклонение = scale\n",
        "dataT = st.norm.rvs(loc=130, scale=15, size=25)\n",
        "dataT"
      ]
    },
    {
      "cell_type": "code",
      "execution_count": null,
      "metadata": {
        "id": "uC-s6x6HjWH3",
        "colab": {
          "base_uri": "https://localhost:8080/"
        },
        "outputId": "c161cb48-1be4-4651-802c-59788b32b6ca"
      },
      "outputs": [
        {
          "output_type": "stream",
          "name": "stdout",
          "text": [
            "длина полученного доверительного интервала 14\n"
          ]
        }
      ],
      "source": [
        "ci_lower, ci_upper = st.t.interval(alpha=0.98, df=len(dataT)-1, loc=np.mean(dataT), scale=st.sem(dataT))\n",
        "L = int(round(ci_upper - ci_lower, 0))\n",
        "print('длина полученного доверительного интервала', L)"
      ]
    },
    {
      "cell_type": "markdown",
      "metadata": {
        "id": "M3o4rXeMjWH4"
      },
      "source": [
        "### 2. Вам даны две выборки роста мужчин и женщин. Докажите, используя t-Тест Стьдента, что различия между выборками незначительно, если уровень значимости равен 0.001"
      ]
    },
    {
      "cell_type": "markdown",
      "metadata": {
        "id": "CxkQDjkijWH4"
      },
      "source": [
        "<div class=\"alert alert-info\">\n",
        "<b>Задание № 2</b>\n",
        "\n",
        "Даны две выборки роста мужчин и женщин.\n",
        "- Докажите, используя `t-Тест Стьдента`, что различие между выборками незначительно, если уровень значимости равен $\\alpha$ `= 0.001`.\n",
        "- Покажите различия визуально\n",
        "</div>"
      ]
    },
    {
      "cell_type": "code",
      "execution_count": null,
      "metadata": {
        "id": "ncGD5JizjWH4",
        "colab": {
          "base_uri": "https://localhost:8080/"
        },
        "outputId": "b6bf31de-34a4-41a5-aaec-838d375c37ad"
      },
      "outputs": [
        {
          "output_type": "stream",
          "name": "stdout",
          "text": [
            "p_value = 0.0002, значит отвергаем нулевую гипотезу. Различия между выборками, вероятно, значительны\n"
          ]
        }
      ],
      "source": [
        "import scipy.stats as stats\n",
        "np.random.seed(42) #фиксация случайности\n",
        "\n",
        "mens  = stats.norm.rvs(loc=171, scale=100, size=150000)  # Выборка мужчин со средним ростом 171\n",
        "womens = stats.norm.rvs(loc=170, scale=100, size=150000)  # Выборка женщин со средним ростом 170\n",
        "#В двух строчках выше генерируется две выбороки, где loc это среднее значение, а scale это дисперсия\n",
        "\n",
        "# H0: Различие между выборками незначительно\n",
        "# H1: Различие между выборками значительно\n",
        "t, p_value = stats.ttest_ind(mens, womens) #Критерий Стьюдента (t-test)\n",
        "\n",
        "if p_value < 0.001:\n",
        "  print(f'p_value = {p_value:.4f}, значит отвергаем нулевую гипотезу. Различия между выборками, вероятно, значительны')\n",
        "else:\n",
        "  print(f'p_value = {p_value:.4f}, значит принимаем нулевую гипотезу. Различия между выборками, вероятно, незначительны')"
      ]
    },
    {
      "cell_type": "code",
      "source": [
        "plt.hist(womens, bins=15);\n",
        "plt.hist(mens, bins=15)"
      ],
      "metadata": {
        "colab": {
          "base_uri": "https://localhost:8080/",
          "height": 404
        },
        "id": "CdlOgYtwJlT4",
        "outputId": "e36f12e4-2d19-4379-9e13-eadca8a8d36a"
      },
      "execution_count": null,
      "outputs": [
        {
          "output_type": "execute_result",
          "data": {
            "text/plain": [
              "(array([7.0000e+00, 7.4000e+01, 5.0100e+02, 2.4200e+03, 7.8620e+03,\n",
              "        1.8573e+04, 3.0450e+04, 3.5460e+04, 2.8908e+04, 1.6710e+04,\n",
              "        6.6670e+03, 1.9520e+03, 3.6100e+02, 5.2000e+01, 3.0000e+00]),\n",
              " array([-275.56038635, -215.37559577, -155.19080519,  -95.00601461,\n",
              "         -34.82122403,   25.36356655,   85.54835713,  145.73314771,\n",
              "         205.91793829,  266.10272888,  326.28751946,  386.47231004,\n",
              "         446.65710062,  506.8418912 ,  567.02668178,  627.21147236]),\n",
              " <a list of 15 Patch objects>)"
            ]
          },
          "metadata": {},
          "execution_count": 68
        },
        {
          "output_type": "display_data",
          "data": {
            "text/plain": [
              "<Figure size 432x288 with 1 Axes>"
            ],
            "image/png": "[encoded data removed]"
          },
          "metadata": {
            "needs_background": "light"
          }
        }
      ]
    },
    {
      "cell_type": "markdown",
      "metadata": {
        "id": "_XHC5p-YjWH4"
      },
      "source": [
        "### 3. Определите объем необходимой выборки для исследования среднего чека за кофе в случайном городе, если известно, что в этом городе стандартное отклонение = 150, уровень доверия = 95%. Погрешность 50 рублей."
      ]
    },
    {
      "cell_type": "markdown",
      "metadata": {
        "id": "wlhtXGtzjWH4"
      },
      "source": [
        "<div class=\"alert alert-info\">\n",
        "<b>Задание № 3</b>\n",
        "\n",
        "Определите объем необходимой выборки для исследования среднего чека за кофе в случайном городе если известно, что в этом городе:\n",
        "\n",
        "- стандартное отклонение $\\sigma = 150$;\n",
        "- уровень доверия $\\beta$  = 95%;\n",
        "- Погрешность $\\Delta = 50$ рублей.\n",
        "</div>"
      ]
    },
    {
      "cell_type": "code",
      "execution_count": null,
      "metadata": {
        "outputId": "867d0de8-4a31-46fb-9dc8-a9efd6f4fbde",
        "colab": {
          "base_uri": "https://localhost:8080/"
        },
        "id": "6y9aCcjjm3kR"
      },
      "outputs": [
        {
          "output_type": "stream",
          "name": "stdout",
          "text": [
            "необходимый объем выборки для исследования 34 \n"
          ]
        }
      ],
      "source": [
        "sigma = 150  # Стандартное отклонение\n",
        "Z = 1.96  # Квантиль нормального распределения.\n",
        "Delta = 50 # Погрешность\n",
        "\n",
        "n = round(int(((sigma*Z)/Delta)**2), 0)\n",
        "print(f'необходимый объем выборки для исследования {n} ')"
      ]
    },
    {
      "cell_type": "markdown",
      "metadata": {
        "id": "xEGlIgasjWH4"
      },
      "source": [
        "<div class=\"alert alert-info\">\n",
        "<b>Задание № 4</b>\n",
        "\n",
        "Представьте, что вы хотите разоблачить \"волшебника\" который считает, что умеет предсказывать погоду на завтра, отвечая просто: дождь или солнце. Вы пронаблюдали за ответами \"волшебника\" в течении какого-то периода времени и получили некие результаты (см.ниже).\n",
        "\n",
        "Можно ли сказать, что маг действительно умеет предсказывать погоду? Уровень значимости принять за `0.05` ($\\alpha=0.05$).\n",
        "</div>"
      ]
    },
    {
      "cell_type": "code",
      "execution_count": null,
      "metadata": {
        "id": "wECwkJSSjWH5",
        "colab": {
          "base_uri": "https://localhost:8080/",
          "height": 112
        },
        "outputId": "358bb119-27c5-4f5e-e1b4-31021aea1e7f"
      },
      "outputs": [
        {
          "output_type": "execute_result",
          "data": {
            "text/plain": [
              "        Верные ответы волшебника  Неверные ответы\n",
              "Дождь                         10               15\n",
              "Солнце                        39               34"
            ],
            "text/html": [
              "\n",
              "  <div id=\"df-b2f643fb-66bc-4456-99dc-a287cb515d58\">\n",
              "    <div class=\"colab-df-container\">\n",
              "      <div>\n",
              "<style scoped>\n",
              "    .dataframe tbody tr th:only-of-type {\n",
              "        vertical-align: middle;\n",
              "    }\n",
              "\n",
              "    .dataframe tbody tr th {\n",
              "        vertical-align: top;\n",
              "    }\n",
              "\n",
              "    .dataframe thead th {\n",
              "        text-align: right;\n",
              "    }\n",
              "</style>\n",
              "<table border=\"1\" class=\"dataframe\">\n",
              "  <thead>\n",
              "    <tr style=\"text-align: right;\">\n",
              "      <th></th>\n",
              "      <th>Верные ответы волшебника</th>\n",
              "      <th>Неверные ответы</th>\n",
              "    </tr>\n",
              "  </thead>\n",
              "  <tbody>\n",
              "    <tr>\n",
              "      <th>Дождь</th>\n",
              "      <td>10</td>\n",
              "      <td>15</td>\n",
              "    </tr>\n",
              "    <tr>\n",
              "      <th>Солнце</th>\n",
              "      <td>39</td>\n",
              "      <td>34</td>\n",
              "    </tr>\n",
              "  </tbody>\n",
              "</table>\n",
              "</div>\n",
              "      <button class=\"colab-df-convert\" onclick=\"convertToInteractive('df-b2f643fb-66bc-4456-99dc-a287cb515d58')\"\n",
              "              title=\"Convert this dataframe to an interactive table.\"\n",
              "              style=\"display:none;\">\n",
              "        \n",
              "  <svg xmlns=\"http://www.w3.org/2000/svg\" height=\"24px\"viewBox=\"0 0 24 24\"\n",
              "       width=\"24px\">\n",
              "    <path d=\"M0 0h24v24H0V0z\" fill=\"none\"/>\n",
              "    <path d=\"M18.56 5.44l.94 2.06.94-2.06 2.06-.94-2.06-.94-.94-2.06-.94 2.06-2.06.94zm-11 1L8.5 8.5l.94-2.06 2.06-.94-2.06-.94L8.5 2.5l-.94 2.06-2.06.94zm10 10l.94 2.06.94-2.06 2.06-.94-2.06-.94-.94-2.06-.94 2.06-2.06.94z\"/><path d=\"M17.41 7.96l-1.37-1.37c-.4-.4-.92-.59-1.43-.59-.52 0-1.04.2-1.43.59L10.3 9.45l-7.72 7.72c-.78.78-.78 2.05 0 2.83L4 21.41c.39.39.9.59 1.41.59.51 0 1.02-.2 1.41-.59l7.78-7.78 2.81-2.81c.8-.78.8-2.07 0-2.86zM5.41 20L4 18.59l7.72-7.72 1.47 1.35L5.41 20z\"/>\n",
              "  </svg>\n",
              "      </button>\n",
              "      \n",
              "  <style>\n",
              "    .colab-df-container {\n",
              "      display:flex;\n",
              "      flex-wrap:wrap;\n",
              "      gap: 12px;\n",
              "    }\n",
              "\n",
              "    .colab-df-convert {\n",
              "      background-color: #E8F0FE;\n",
              "      border: none;\n",
              "      border-radius: 50%;\n",
              "      cursor: pointer;\n",
              "      display: none;\n",
              "      fill: #1967D2;\n",
              "      height: 32px;\n",
              "      padding: 0 0 0 0;\n",
              "      width: 32px;\n",
              "    }\n",
              "\n",
              "    .colab-df-convert:hover {\n",
              "      background-color: #E2EBFA;\n",
              "      box-shadow: 0px 1px 2px rgba(60, 64, 67, 0.3), 0px 1px 3px 1px rgba(60, 64, 67, 0.15);\n",
              "      fill: #174EA6;\n",
              "    }\n",
              "\n",
              "    [theme=dark] .colab-df-convert {\n",
              "      background-color: #3B4455;\n",
              "      fill: #D2E3FC;\n",
              "    }\n",
              "\n",
              "    [theme=dark] .colab-df-convert:hover {\n",
              "      background-color: #434B5C;\n",
              "      box-shadow: 0px 1px 3px 1px rgba(0, 0, 0, 0.15);\n",
              "      filter: drop-shadow(0px 1px 2px rgba(0, 0, 0, 0.3));\n",
              "      fill: #FFFFFF;\n",
              "    }\n",
              "  </style>\n",
              "\n",
              "      <script>\n",
              "        const buttonEl =\n",
              "          document.querySelector('#df-b2f643fb-66bc-4456-99dc-a287cb515d58 button.colab-df-convert');\n",
              "        buttonEl.style.display =\n",
              "          google.colab.kernel.accessAllowed ? 'block' : 'none';\n",
              "\n",
              "        async function convertToInteractive(key) {\n",
              "          const element = document.querySelector('#df-b2f643fb-66bc-4456-99dc-a287cb515d58');\n",
              "          const dataTable =\n",
              "            await google.colab.kernel.invokeFunction('convertToInteractive',\n",
              "                                                     [key], {});\n",
              "          if (!dataTable) return;\n",
              "\n",
              "          const docLinkHtml = 'Like what you see? Visit the ' +\n",
              "            '<a target=\"_blank\" href=https://colab.research.google.com/notebooks/data_table.ipynb>data table notebook</a>'\n",
              "            + ' to learn more about interactive tables.';\n",
              "          element.innerHTML = '';\n",
              "          dataTable['output_type'] = 'display_data';\n",
              "          await google.colab.output.renderOutput(dataTable, element);\n",
              "          const docLink = document.createElement('div');\n",
              "          docLink.innerHTML = docLinkHtml;\n",
              "          element.appendChild(docLink);\n",
              "        }\n",
              "      </script>\n",
              "    </div>\n",
              "  </div>\n",
              "  "
            ]
          },
          "metadata": {},
          "execution_count": 18
        }
      ],
      "source": [
        "observations = pd.DataFrame([[10, 15],[39, 34]],\n",
        "                            index=['Дождь','Солнце'],\n",
        "                            columns=['Верные ответы волшебника','Неверные ответы'])\n",
        "observations"
      ]
    },
    {
      "cell_type": "code",
      "execution_count": null,
      "metadata": {
        "id": "xxx-05BNjWH5",
        "colab": {
          "base_uri": "https://localhost:8080/"
        },
        "outputId": "98c5fff7-8607-4d97-9c50-08274c6e4fbf"
      },
      "outputs": [
        {
          "output_type": "stream",
          "name": "stdout",
          "text": [
            "Статистика = 0.58120, pvalue = 0.35418\n",
            "принимаем нулевую гипотезу. Похоже, \"волшебник\" предсказывает погоду случайно\n"
          ]
        }
      ],
      "source": [
        "import scipy.stats as stats\n",
        "# Учтите, что у стат. тестов, в том числе и точного теста Фишера под нулевой гипотезой подразумевается случайность/отсутсвие эффекта\n",
        "\n",
        "oddsratio, pvalue = stats.fisher_exact(observations) #Возможно пригодится эта функция.\n",
        "\n",
        "print(f'Статистика = {oddsratio:.5f}, pvalue = {pvalue:.5f}')\n",
        "\n",
        "# H0: 'волшебник' предсказывает погоду случайно\n",
        "# H1: 'волшебник' умеет предсказывать погоду!\n",
        "\n",
        "if pvalue < 0.05:\n",
        "    print('отклоняем нулевую гипотезу, волшебник УМЕЕТ предсказывать погоду!')\n",
        "else:\n",
        "    print('принимаем нулевую гипотезу. Похоже, \"волшебник\" предсказывает погоду случайно')"
      ]
    },
    {
      "cell_type": "markdown",
      "metadata": {
        "id": "uoHlyArcjWH5"
      },
      "source": [
        "<div class=\"alert alert-info\">\n",
        "<b>Задание № 5</b>\n",
        "\n",
        "Используя функцию mean_confidence_interval(data, confidence), постройте доверительный интервал с уровнем доверия $\\beta = 90\\%$ для выборки:\n",
        "\n",
        "</div>"
      ]
    },
    {
      "cell_type": "code",
      "source": [
        "def mean_confidence_interval(data, confidence=0.90):\n",
        "    n = len(data)\n",
        "    m, se = np.mean(data), stats.sem(data)\n",
        "    h = se * stats.t.ppf((1 + confidence)/2, n)  #  функция ppf из scipy возвращает нам перцентиль\n",
        "    return m-h, m, m+h"
      ],
      "metadata": {
        "id": "AT1Gawx1fxkp"
      },
      "execution_count": null,
      "outputs": []
    },
    {
      "cell_type": "code",
      "execution_count": null,
      "metadata": {
        "id": "5Y1hsoUejWH5",
        "colab": {
          "base_uri": "https://localhost:8080/"
        },
        "outputId": "7f153273-da55-4edb-fa69-ac329058e9c5"
      },
      "outputs": [
        {
          "output_type": "stream",
          "name": "stdout",
          "text": [
            "(6.074074746111319, 6.628571428571429, 7.183068111031539)\n"
          ]
        }
      ],
      "source": [
        "data = [4,5,8,9,6,7,5,6,7,8,5,6,7,0,9,8,4,6,\n",
        "        7,9,8,6,5,7,8,9,6,7,5,8,6,7,9,5,10]\n",
        "\n",
        "print(mean_confidence_interval(data, 0.90))"
      ]
    },
    {
      "cell_type": "markdown",
      "metadata": {
        "id": "WAhX4nnOjWH5"
      },
      "source": [
        "<div class=\"alert alert-info\">\n",
        "<b>Задание № 6</b>\n",
        "\n",
        "Принадлежат ли выборки `A` и `B` одному множеству?\n",
        "    \n",
        "- Оцените это с помощью известных вам тестов для проверок статистических гипотез;\n",
        "- Покажите различия визуально.\n",
        "</div>"
      ]
    },
    {
      "cell_type": "code",
      "execution_count": null,
      "metadata": {
        "id": "RO5xIPS4jWH5",
        "colab": {
          "base_uri": "https://localhost:8080/"
        },
        "outputId": "1bf3cc30-6320-4065-e0d8-5ef460f9a79c"
      },
      "outputs": [
        {
          "output_type": "stream",
          "name": "stdout",
          "text": [
            "Статистика = 9280.5, p = 9.602040500172804e-21\n",
            "Отклоняем нулевую гипотезу, выборки не относятся к одному множеству\n"
          ]
        }
      ],
      "source": [
        "A = [4,5,8,9,6,7,5,6,7,6,8,5,6,7,8,4,\n",
        "    6,7,9,8,6,5,7,8,6,7,5,6,8,6,7,5,\n",
        "    4,5,8,9,6,7,5,6,7,6,8,5,6,7,8,4,\n",
        "    6,7,9,8,6,5,7,8,6,7,5,6,8,6,7,5,\n",
        "    4,5,8,9,6,7,5,6,7,6,8,5,6,7,8,4,\n",
        "    6,7,9,8,6,5,7,8,6,7,5,6,8,6,7,5,\n",
        "    4,5,8,9,6,7,5,6,7,6,8,5,6,7,8,4]\n",
        "\n",
        "B = [5,6,7,8,4,6,7,2,6,5,7,5,3,5,3,\n",
        "    5,3,5,5,8,7,6,4,5,3,5,4,6,4,5,3,\n",
        "    2,6,4,3,5,4,3,4,5,4,3,4,5,4,3,4,\n",
        "    2,6,4,3,5,4,3,4,5,4,3,4,5,4,3,4,\n",
        "    3,4,4,1,2,4,3,2,4,3,2,1,5,3,4,6,\n",
        "    3,2,4,5,6,4,3,3,5,3,4,4,4,2,5,3]\n",
        "\n",
        "\n",
        "# H0: выборки относятся к одному множеству.\n",
        "# H1: выборки не относятся к одному множеству\n",
        "\n",
        "stat, p = st.mannwhitneyu(A, B)\n",
        "\n",
        "print(f\"Статистика = {stat}, p = {p}\")\n",
        "\n",
        "if p > 0.05:\n",
        "    print('Не отклоняем нулевую гипотезу, выборки относятся к одному множеству')\n",
        "else:\n",
        "    print('Отклоняем нулевую гипотезу, выборки не относятся к одному множеству')"
      ]
    },
    {
      "cell_type": "code",
      "source": [
        "plt.hist(B, bins=25);\n",
        "plt.hist(A, bins=25);"
      ],
      "metadata": {
        "colab": {
          "base_uri": "https://localhost:8080/",
          "height": 265
        },
        "id": "vQPH_qT8QCxg",
        "outputId": "ade0d47d-8c0c-4a90-9716-0c436568ceef"
      },
      "execution_count": null,
      "outputs": [
        {
          "output_type": "display_data",
          "data": {
            "text/plain": [
              "<Figure size 432x288 with 1 Axes>"
            ],
            "image/png": "[encoded data removed]"
          },
          "metadata": {
            "needs_background": "light"
          }
        }
      ]
    },
    {
      "cell_type": "markdown",
      "metadata": {
        "id": "xO6DUj3WjWH5"
      },
      "source": [
        "<div class=\"alert alert-info\">\n",
        "<b>Задание № 7 (задание без подвоха)</b>\n",
        "\n",
        "На примере датасета про жилье в New York City, мы сталкивались с примером, когда переменная имеет не совсем нормальное распределение.\n",
        "\n",
        "- Предположим, Вы сформировали две гипотезы:\n",
        "    - нулевая гипотеза - распределение нормальное;\n",
        "    - альтернативная гипотеза - распределение ненормальное.\n",
        "- допустим, вы применили какой-то тест (сейчас неважно какой), который показал уровень значимости  `p-value = 0.03`. Каковы будут ваши выводы? Будем считать что у нас нормальное распределение или все-таки нет?)\n",
        "    \n",
        "</div>"
      ]
    },
    {
      "cell_type": "code",
      "execution_count": null,
      "metadata": {
        "id": "ZzvB0XprjWH6"
      },
      "outputs": [],
      "source": [
        "### Ваши выводы:"
      ]
    },
    {
      "cell_type": "markdown",
      "source": [
        "По значению p-value без уровня стат. значимости нельзя принять или отвергнуть нулевую гипотезу\n"
      ],
      "metadata": {
        "id": "pDGwUpgK2YhP"
      }
    },
    {
      "cell_type": "markdown",
      "metadata": {
        "id": "IG9bwW4sjWH6"
      },
      "source": [
        "<div class=\"alert alert-info\">\n",
        "<b>Задание № 8</b>\n",
        "    \n",
        "Первая выборка — это пациенты, которых лечили препаратом `А`.  Вторая выборка — пациенты, которых лечили препаратом `B`.\n",
        "\n",
        "Значения в выборках — это некоторая характеристика эффективности лечения (уровень метаболита в крови, температура через три дня после начала лечения, срок выздоровления, число койко-дней, и т.д.)\n",
        "\n",
        "- Требуется выяснить, имеется ли значимое различие эффективности препаратов `А` и `B`, или различия являются чисто случайными и объясняются «естественной» дисперсией выбранной характеристики?  (`уровень значимости принять за 0.05 (5%)`)\n",
        "\n",
        "- При каком минимальном p-value различия были бы уже значимы?\n",
        "    \n",
        "- Если выборки незначительно отличаются, то продемонстрируйте это визуально\n",
        "</div>"
      ]
    },
    {
      "cell_type": "code",
      "execution_count": null,
      "metadata": {
        "id": "XKcvEfinjWH6",
        "colab": {
          "base_uri": "https://localhost:8080/",
          "height": 300
        },
        "outputId": "f33b0de7-72e7-4fb1-9e74-6b29e6f43bd9"
      },
      "outputs": [
        {
          "output_type": "execute_result",
          "data": {
            "text/plain": [
              "       препарат А  препарат B     разница\n",
              "count  300.000000  300.000000  300.000000\n",
              "mean   168.996623  171.279351    2.282728\n",
              "std     14.514851   14.112601   19.429630\n",
              "min    129.200222  122.956041  -49.073255\n",
              "25%    158.845516  162.917094   -9.799642\n",
              "50%    168.725478  171.314729    2.711816\n",
              "75%    178.949547  179.880765   14.574167\n",
              "max    202.027845  205.292058   57.751642"
            ],
            "text/html": [
              "\n",
              "  <div id=\"df-8959de1e-ca7a-4f3e-b05a-b5066e84009b\">\n",
              "    <div class=\"colab-df-container\">\n",
              "      <div>\n",
              "<style scoped>\n",
              "    .dataframe tbody tr th:only-of-type {\n",
              "        vertical-align: middle;\n",
              "    }\n",
              "\n",
              "    .dataframe tbody tr th {\n",
              "        vertical-align: top;\n",
              "    }\n",
              "\n",
              "    .dataframe thead th {\n",
              "        text-align: right;\n",
              "    }\n",
              "</style>\n",
              "<table border=\"1\" class=\"dataframe\">\n",
              "  <thead>\n",
              "    <tr style=\"text-align: right;\">\n",
              "      <th></th>\n",
              "      <th>препарат А</th>\n",
              "      <th>препарат B</th>\n",
              "      <th>разница</th>\n",
              "    </tr>\n",
              "  </thead>\n",
              "  <tbody>\n",
              "    <tr>\n",
              "      <th>count</th>\n",
              "      <td>300.000000</td>\n",
              "      <td>300.000000</td>\n",
              "      <td>300.000000</td>\n",
              "    </tr>\n",
              "    <tr>\n",
              "      <th>mean</th>\n",
              "      <td>168.996623</td>\n",
              "      <td>171.279351</td>\n",
              "      <td>2.282728</td>\n",
              "    </tr>\n",
              "    <tr>\n",
              "      <th>std</th>\n",
              "      <td>14.514851</td>\n",
              "      <td>14.112601</td>\n",
              "      <td>19.429630</td>\n",
              "    </tr>\n",
              "    <tr>\n",
              "      <th>min</th>\n",
              "      <td>129.200222</td>\n",
              "      <td>122.956041</td>\n",
              "      <td>-49.073255</td>\n",
              "    </tr>\n",
              "    <tr>\n",
              "      <th>25%</th>\n",
              "      <td>158.845516</td>\n",
              "      <td>162.917094</td>\n",
              "      <td>-9.799642</td>\n",
              "    </tr>\n",
              "    <tr>\n",
              "      <th>50%</th>\n",
              "      <td>168.725478</td>\n",
              "      <td>171.314729</td>\n",
              "      <td>2.711816</td>\n",
              "    </tr>\n",
              "    <tr>\n",
              "      <th>75%</th>\n",
              "      <td>178.949547</td>\n",
              "      <td>179.880765</td>\n",
              "      <td>14.574167</td>\n",
              "    </tr>\n",
              "    <tr>\n",
              "      <th>max</th>\n",
              "      <td>202.027845</td>\n",
              "      <td>205.292058</td>\n",
              "      <td>57.751642</td>\n",
              "    </tr>\n",
              "  </tbody>\n",
              "</table>\n",
              "</div>\n",
              "      <button class=\"colab-df-convert\" onclick=\"convertToInteractive('df-8959de1e-ca7a-4f3e-b05a-b5066e84009b')\"\n",
              "              title=\"Convert this dataframe to an interactive table.\"\n",
              "              style=\"display:none;\">\n",
              "        \n",
              "  <svg xmlns=\"http://www.w3.org/2000/svg\" height=\"24px\"viewBox=\"0 0 24 24\"\n",
              "       width=\"24px\">\n",
              "    <path d=\"M0 0h24v24H0V0z\" fill=\"none\"/>\n",
              "    <path d=\"M18.56 5.44l.94 2.06.94-2.06 2.06-.94-2.06-.94-.94-2.06-.94 2.06-2.06.94zm-11 1L8.5 8.5l.94-2.06 2.06-.94-2.06-.94L8.5 2.5l-.94 2.06-2.06.94zm10 10l.94 2.06.94-2.06 2.06-.94-2.06-.94-.94-2.06-.94 2.06-2.06.94z\"/><path d=\"M17.41 7.96l-1.37-1.37c-.4-.4-.92-.59-1.43-.59-.52 0-1.04.2-1.43.59L10.3 9.45l-7.72 7.72c-.78.78-.78 2.05 0 2.83L4 21.41c.39.39.9.59 1.41.59.51 0 1.02-.2 1.41-.59l7.78-7.78 2.81-2.81c.8-.78.8-2.07 0-2.86zM5.41 20L4 18.59l7.72-7.72 1.47 1.35L5.41 20z\"/>\n",
              "  </svg>\n",
              "      </button>\n",
              "      \n",
              "  <style>\n",
              "    .colab-df-container {\n",
              "      display:flex;\n",
              "      flex-wrap:wrap;\n",
              "      gap: 12px;\n",
              "    }\n",
              "\n",
              "    .colab-df-convert {\n",
              "      background-color: #E8F0FE;\n",
              "      border: none;\n",
              "      border-radius: 50%;\n",
              "      cursor: pointer;\n",
              "      display: none;\n",
              "      fill: #1967D2;\n",
              "      height: 32px;\n",
              "      padding: 0 0 0 0;\n",
              "      width: 32px;\n",
              "    }\n",
              "\n",
              "    .colab-df-convert:hover {\n",
              "      background-color: #E2EBFA;\n",
              "      box-shadow: 0px 1px 2px rgba(60, 64, 67, 0.3), 0px 1px 3px 1px rgba(60, 64, 67, 0.15);\n",
              "      fill: #174EA6;\n",
              "    }\n",
              "\n",
              "    [theme=dark] .colab-df-convert {\n",
              "      background-color: #3B4455;\n",
              "      fill: #D2E3FC;\n",
              "    }\n",
              "\n",
              "    [theme=dark] .colab-df-convert:hover {\n",
              "      background-color: #434B5C;\n",
              "      box-shadow: 0px 1px 3px 1px rgba(0, 0, 0, 0.15);\n",
              "      filter: drop-shadow(0px 1px 2px rgba(0, 0, 0, 0.3));\n",
              "      fill: #FFFFFF;\n",
              "    }\n",
              "  </style>\n",
              "\n",
              "      <script>\n",
              "        const buttonEl =\n",
              "          document.querySelector('#df-8959de1e-ca7a-4f3e-b05a-b5066e84009b button.colab-df-convert');\n",
              "        buttonEl.style.display =\n",
              "          google.colab.kernel.accessAllowed ? 'block' : 'none';\n",
              "\n",
              "        async function convertToInteractive(key) {\n",
              "          const element = document.querySelector('#df-8959de1e-ca7a-4f3e-b05a-b5066e84009b');\n",
              "          const dataTable =\n",
              "            await google.colab.kernel.invokeFunction('convertToInteractive',\n",
              "                                                     [key], {});\n",
              "          if (!dataTable) return;\n",
              "\n",
              "          const docLinkHtml = 'Like what you see? Visit the ' +\n",
              "            '<a target=\"_blank\" href=https://colab.research.google.com/notebooks/data_table.ipynb>data table notebook</a>'\n",
              "            + ' to learn more about interactive tables.';\n",
              "          element.innerHTML = '';\n",
              "          dataTable['output_type'] = 'display_data';\n",
              "          await google.colab.output.renderOutput(dataTable, element);\n",
              "          const docLink = document.createElement('div');\n",
              "          docLink.innerHTML = docLinkHtml;\n",
              "          element.appendChild(docLink);\n",
              "        }\n",
              "      </script>\n",
              "    </div>\n",
              "  </div>\n",
              "  "
            ]
          },
          "metadata": {},
          "execution_count": 63
        }
      ],
      "source": [
        "np.random.seed(11)\n",
        "A = stats.norm.rvs(scale=15, loc=169, size=300)\n",
        "B = stats.norm.rvs(scale=14, loc=171.4, size=300)\n",
        "\n",
        "# H0: различия являются случайными\n",
        "# H1: имеется значимое различие эффективности препаратов А и B\n",
        "\n",
        "med_df = pd.DataFrame({\"препарат А\":A,\n",
        "                       \"препарат B\":B,\n",
        "                       \"разница\": B-A})\n",
        "med_df.describe()"
      ]
    },
    {
      "cell_type": "code",
      "execution_count": null,
      "metadata": {
        "id": "D2OlLG_SjWH6",
        "colab": {
          "base_uri": "https://localhost:8080/"
        },
        "outputId": "d8167c12-9022-41db-d288-2322c461752e"
      },
      "outputs": [
        {
          "output_type": "execute_result",
          "data": {
            "text/plain": [
              "Ttest_relResult(statistic=-2.0349336314319992, pvalue=0.042739435733033855)"
            ]
          },
          "metadata": {},
          "execution_count": 64
        }
      ],
      "source": [
        " stats.ttest_rel(a=A, b=B)"
      ]
    },
    {
      "cell_type": "markdown",
      "source": [
        "pvalue= 0.04, уровень значимости = 0.05, значит мы отвергаем нулевую гипотезу и имеется значимое различие эффективности препаратов"
      ],
      "metadata": {
        "id": "IfaBe8Tcl7xa"
      }
    },
    {
      "cell_type": "code",
      "execution_count": null,
      "metadata": {
        "id": "gWTE4tdsjWH6",
        "colab": {
          "base_uri": "https://localhost:8080/",
          "height": 265
        },
        "outputId": "481e42f0-d550-4581-8f26-66a483d61331"
      },
      "outputs": [
        {
          "output_type": "display_data",
          "data": {
            "text/plain": [
              "<Figure size 432x288 with 1 Axes>"
            ],
            "image/png": "[encoded data removed]"
          },
          "metadata": {
            "needs_background": "light"
          }
        }
      ],
      "source": [
        "plt.hist(B, bins=15);\n",
        "plt.hist(A, bins=15);"
      ]
    }
  ],
  "metadata": {
    "kernelspec": {
      "display_name": "Python 3",
      "language": "python",
      "name": "python3"
    },
    "language_info": {
      "codemirror_mode": {
        "name": "ipython",
        "version": 3
      },
      "file_extension": ".py",
      "mimetype": "text/x-python",
      "name": "python",
      "nbconvert_exporter": "python",
      "pygments_lexer": "ipython3",
      "version": "3.8.5"
    },
    "toc": {
      "base_numbering": 1,
      "nav_menu": {},
      "number_sections": true,
      "sideBar": true,
      "skip_h1_title": false,
      "title_cell": "Table of Contents",
      "title_sidebar": "Contents",
      "toc_cell": false,
      "toc_position": {},
      "toc_section_display": true,
      "toc_window_display": false
    },
    "colab": {
      "provenance": [],
      "include_colab_link": true
    }
  },
  "nbformat": 4,
  "nbformat_minor": 0
}
