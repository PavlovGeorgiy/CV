{
  "cells": [
    {
      "cell_type": "markdown",
      "metadata": {
        "id": "view-in-github",
        "colab_type": "text"
      },
      "source": [
        "<a href=\"https://colab.research.google.com/github/PavlovGeorgiy/portfolio/blob/main/%D0%94%D0%BE%D0%BC%D0%B0%D1%88%D0%BD%D0%B5%D0%B5_%D0%B7%D0%B0%D0%B4%D0%B0%D0%BD%D0%B8%D0%B5_%D0%BA_%D0%BB%D0%B5%D0%BA%D1%86%D0%B8%D0%B8_%C2%AB%D0%A1%D0%BB%D1%83%D1%87%D0%B0%D0%B9%D0%BD%D1%8B%D0%B5_%D1%81%D0%BE%D0%B1%D1%8B%D1%82%D0%B8%D1%8F_%D0%A1%D0%BB%D1%83%D1%87%D0%B0%D0%B9%D0%BD%D1%8B%D0%B5_%D0%B2%D0%B5%D0%BB%D0%B8%D1%87%D0%B8%D0%BD%D1%8B%C2%BB.ipynb\" target=\"_parent\"><img src=\"https://colab.research.google.com/assets/colab-badge.svg\" alt=\"Open In Colab\"/></a>"
      ]
    },
    {
      "cell_type": "markdown",
      "metadata": {
        "id": "np_f-rtKuNpk"
      },
      "source": [
        "Смоделировать игру против лотерейного автомата типа “777”. Игрок платит 1 руб., после чего выпадает случайное целое число, равномерно распределенное от 0 до 999. При некоторых значениях числа игрок получает выигрыш.\n",
        "\n",
        "\n",
        "*   777: 200 руб.\n",
        "*   999: 100 руб.\n",
        "*   555: 50 руб.\n",
        "*   333: 15 руб.\n",
        "*   111: 10 руб.\n",
        "*   *77: 5 руб.\n",
        "*   **7: 3 руб.\n",
        "*   *00: 2 руб.\n",
        "*   **0: 1 руб.\n",
        "\n",
        "Вопросы:\n",
        "*   Выгодна ли игра игроку?\n",
        "*   Сколько в среднем приобретает или теряет игрок за одну игру?\n"
      ]
    },
    {
      "cell_type": "code",
      "source": [
        "import numpy as np\n",
        "from random import randint"
      ],
      "metadata": {
        "id": "j2HOMj-wIFKR"
      },
      "execution_count": null,
      "outputs": []
    },
    {
      "cell_type": "code",
      "source": [
        "trials = 1000000 # кол-во попыток\n",
        "fail = 0 # тут будет кол-во выпавших проигрышных комбинаций\n",
        "balance = [] # тут - записи обо всех суммах выигрыша\n",
        "\n",
        "for i in range(trials + 1):\n",
        "    random_score = np.random.randint(0, 1000)\n",
        "    if random_score == 777:\n",
        "      balance.append(200)\n",
        "    if random_score == 999:\n",
        "      balance.append(100)\n",
        "    if random_score == 555:\n",
        "      balance.append(50)\n",
        "    if random_score == 333:\n",
        "      balance.append(15)\n",
        "    if random_score == 111:\n",
        "      balance.append(10)\n",
        "    elif random_score % 100 == 77:\n",
        "      balance.append(5)\n",
        "    elif random_score % 10 == 7:\n",
        "      balance.append(3)\n",
        "    elif random_score % 100 == 0:\n",
        "      balance.append(2)\n",
        "    elif random_score % 10 == 0:\n",
        "      balance.append(1)\n",
        "    else:\n",
        "      fail += 1\n",
        "\n",
        "monte_carlo = (trials - fail) / trials  # вероятность из моделирования\n",
        "\n",
        "print(f'вероятность выигрыша при {trials} попыток составляет {round(monte_carlo *100, 2)}%')\n",
        "if sum(balance) > trials:\n",
        "  print(f'в среднем игрок приобретает {sum(balance) - trials} рублей')\n",
        "else:\n",
        "  print(f'в среднем игрок теряет {sum(balance) - trials} рублей')"
      ],
      "metadata": {
        "colab": {
          "base_uri": "https://localhost:8080/"
        },
        "id": "Pyftr2obzGJx",
        "outputId": "7fdf0628-0911-4693-d7c1-99808791ab67"
      },
      "execution_count": null,
      "outputs": [
        {
          "output_type": "stream",
          "name": "stdout",
          "text": [
            "вероятность выигрыша при 1000000 попыток составляет 20.08%\n",
            "в среднем игрок теряет -195546 рублей\n"
          ]
        }
      ]
    }
  ],
  "metadata": {
    "colab": {
      "provenance": [],
      "authorship_tag": "ABX9TyNVDgqYfef8FBKEcouwtBf5",
      "include_colab_link": true
    },
    "kernelspec": {
      "display_name": "Python 3",
      "name": "python3"
    },
    "language_info": {
      "name": "python"
    }
  },
  "nbformat": 4,
  "nbformat_minor": 0
}
